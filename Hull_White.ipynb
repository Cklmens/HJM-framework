{
 "cells": [
  {
   "cell_type": "markdown",
   "metadata": {},
   "source": [
    "HJM framework no arbritage on the drift condition\n",
    "\n",
    "\n",
    "$$\n",
    "df(t; T) = Q(t; T) dt + \\sigma(t; T) dW_{Q(t)} \n",
    "\\\\\n",
    "Q(t; T) = \\sigma(t; T) \\int_t^T \\sigma(t; s) ds\n",
    "\\\\\n",
    "dr(t) = \\left( \n",
    "\\frac{\\partial}{\\partial t} f(0; t) + Q(t; t) + \n",
    "\\int_0^t \\frac{\\partial}{\\partial t} Q(s; t) ds + \n",
    "\\int_0^t \\frac{\\partial}{\\partial t} \\sigma(s; t) dW_{Q(s)} \n",
    "\\right) dt + \\sigma(t; t) dW_{Q(t)}:\n",
    "\n",
    "\n",
    "$$"
   ]
  },
  {
   "cell_type": "markdown",
   "metadata": {},
   "source": [
    "In Hull White model\n",
    "$$\n",
    "\\sigma(t; T) = \\sigma_0 e^{-\\lambda(T - t)}\n",
    "\n",
    "\\\\\n",
    "\n",
    "Q(t; T) = \\frac{\\sigma_{0}^{2}}{\\lambda}e^{-\\lambda(T - t)} (1-e^{-\\lambda(T - t)})\n",
    "\n",
    "$$"
   ]
  },
  {
   "cell_type": "markdown",
   "metadata": {},
   "source": [
    "$$\n",
    "\\int_0^t \\frac{\\partial}{\\partial t} Q(s; t) ds  =\\frac{\\sigma_{0}^{2}}{\\lambda}e^{-\\lambda t} (1-e^{-\\lambda t })\n",
    "\n",
    "\n",
    "$$"
   ]
  },
  {
   "cell_type": "markdown",
   "metadata": {},
   "source": [
    "$$\n",
    "\\int_0^t \\frac{\\partial}{\\partial t} \\sigma(s; t) dW_{Q(s)} =-\\lambda \\int_0^t  \\sigma(s; t) dW_{Q(s)}  = -\\lambda \\left( r(t) - f(0;t)- \\int_0^t Q(s; t) ds \\right)    = -\\lambda \\left( r(t) - f(0;t)- \\frac{\\sigma^2}{2\\lambda^2} e^{-2\\lambda t} (e^{\\lambda t} - 1)^{2} \\right)  \n",
    "\n",
    "\n",
    "$$"
   ]
  },
  {
   "cell_type": "markdown",
   "metadata": {},
   "source": [
    "Finally\n",
    "\n",
    "$$\n",
    "\n",
    " dr(t) = \\lambda \\left( \n",
    "\\frac{1}{\\lambda} \\frac{\\partial}{\\partial t} f(0; t) + f(0; t) + \n",
    "\\frac{\\sigma^2}{2\\lambda^2} \\left( \n",
    "1 - e^{-2\\lambda t} \n",
    "\\right) - r(t) \n",
    "\\right) dt + \\sigma dW_{Q(t)}:\n",
    "\n",
    "\n",
    "$$"
   ]
  },
  {
   "cell_type": "markdown",
   "metadata": {},
   "source": [
    "$$\n",
    "\\phi(t) = \\frac{1}{\\lambda} \\frac{\\partial}{\\partial t} f(0; t) + f(0; t) + \n",
    "\\frac{\\sigma^2}{2\\lambda^2} \\left( \n",
    "1 - e^{-2\\lambda t} \n",
    "\\right);\n",
    "$$\n",
    "\n",
    "$$\\text{The dynamics of the process } r(t) \\text{ yields:} \\quad dr(t) = \\lambda (\\phi(t) - r(t)) dt + \\sigma dW_{Q(t)}:\n"
   ]
  },
  {
   "cell_type": "markdown",
   "metadata": {},
   "source": []
  },
  {
   "cell_type": "code",
   "execution_count": null,
   "metadata": {},
   "outputs": [],
   "source": []
  }
 ],
 "metadata": {
  "language_info": {
   "name": "python"
  }
 },
 "nbformat": 4,
 "nbformat_minor": 2
}
